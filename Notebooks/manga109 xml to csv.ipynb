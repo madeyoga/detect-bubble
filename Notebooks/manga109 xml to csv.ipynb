{
 "cells": [
  {
   "cell_type": "code",
   "execution_count": 15,
   "metadata": {},
   "outputs": [],
   "source": [
    "import os\n",
    "from random import shuffle\n",
    "import numpy as np\n",
    "import pandas as pd\n",
    "import cv2\n",
    "from sklearn.model_selection import train_test_split\n",
    "import matplotlib.pyplot as plt\n",
    "from bs4 import BeautifulSoup\n",
    "from tqdm import tqdm"
   ]
  },
  {
   "cell_type": "code",
   "execution_count": 16,
   "metadata": {},
   "outputs": [],
   "source": [
    "path = 'Dataset/Manga109'\n",
    "\n",
    "with open('{}/{}'.format(path, 'books.txt')) as file:\n",
    "    book_list = file.readlines()\n",
    "book_list = [bookname.strip() for bookname in book_list]\n",
    "shuffle(book_list)"
   ]
  },
  {
   "cell_type": "code",
   "execution_count": 17,
   "metadata": {},
   "outputs": [
    {
     "name": "stderr",
     "output_type": "stream",
     "text": [
      "  5%|███▊                                                                              | 5/109 [00:00<00:12,  8.32it/s]\n"
     ]
    }
   ],
   "source": [
    "records = []\n",
    "# For each book\n",
    "for count, bookname in enumerate(tqdm(book_list)):\n",
    "    # Process annotiation\n",
    "    annotation_path = '{}/annotations/{}.xml'.format(path, bookname)\n",
    "    with open(annotation_path, encoding='utf8') as a_file:\n",
    "        content = ''.join(a_file.readlines())\n",
    "        \n",
    "    soup = BeautifulSoup(content, 'xml')\n",
    "    \n",
    "    # For each page in book\n",
    "    for page in soup.find_all('page'):\n",
    "        # Get classes from page\n",
    "        texts = page.findChildren('text')\n",
    "        bodies = page.findChildren('body')\n",
    "        faces = page.findChildren('face')\n",
    "\n",
    "        # Check if classes exist in page, if not then continue to next page\n",
    "        if not texts and not bodies and not faces:\n",
    "            continue\n",
    "\n",
    "        filepath = '{}/images/{}/{}.jpg'.format(path, bookname, page.get('index').zfill(3))\n",
    "        width, height = int(page.get('width')), int(page.get('height'))\n",
    "\n",
    "        for text in texts:\n",
    "            (xmin,ymin,xmax,ymax) = text.get('xmin'), text.get('ymin'), text.get('xmax'), text.get('ymax')\n",
    "            data = (filepath,width,height,'text',xmin,ymin,xmax,ymax)\n",
    "            records.append(data)\n",
    "\n",
    "        for body in bodies:\n",
    "            (xmin,ymin,xmax,ymax) = body.get('xmin'), body.get('ymin'), body.get('xmax'), body.get('ymax')\n",
    "            data = (filepath,width,height,'body',xmin,ymin,xmax,ymax)\n",
    "            records.append(data)\n",
    "\n",
    "        for face in faces:\n",
    "            (xmin,ymin,xmax,ymax) = face.get('xmin'), face.get('ymin'), face.get('xmax'), face.get('ymax')\n",
    "            data = (filepath,width,height,'face',xmin,ymin,xmax,ymax)\n",
    "            records.append(data)\n",
    "\n",
    "        # process 7 pages per book\n",
    "        if int(page.get('index')) >= 1:\n",
    "            break\n",
    "            \n",
    "    if count >= 5:\n",
    "        break"
   ]
  },
  {
   "cell_type": "code",
   "execution_count": 18,
   "metadata": {},
   "outputs": [],
   "source": [
    "train_records, test_records = train_test_split(records, test_size=0.2, shuffle=False, random_state=42)"
   ]
  },
  {
   "cell_type": "code",
   "execution_count": 19,
   "metadata": {},
   "outputs": [
    {
     "data": {
      "text/plain": [
       "(48, 13)"
      ]
     },
     "execution_count": 19,
     "metadata": {},
     "output_type": "execute_result"
    }
   ],
   "source": [
    "len(train_records), len(test_records)"
   ]
  },
  {
   "cell_type": "code",
   "execution_count": 20,
   "metadata": {},
   "outputs": [],
   "source": [
    "df = pd.DataFrame(train_records, columns=['filename', 'width', 'height', 'class', 'xmin', 'ymin', 'xmax', 'ymax'])\n",
    "df.to_csv('Object Detection/data/train_labels.csv', index=False)"
   ]
  },
  {
   "cell_type": "code",
   "execution_count": 21,
   "metadata": {},
   "outputs": [],
   "source": [
    "df = pd.DataFrame(test_records, columns=['filename', 'width', 'height', 'class', 'xmin', 'ymin', 'xmax', 'ymax'])\n",
    "df.to_csv('Object Detection/data/test_labels.csv', index=False)"
   ]
  },
  {
   "cell_type": "code",
   "execution_count": null,
   "metadata": {},
   "outputs": [],
   "source": []
  }
 ],
 "metadata": {
  "kernelspec": {
   "display_name": "Python 3",
   "language": "python",
   "name": "python3"
  },
  "language_info": {
   "codemirror_mode": {
    "name": "ipython",
    "version": 3
   },
   "file_extension": ".py",
   "mimetype": "text/x-python",
   "name": "python",
   "nbconvert_exporter": "python",
   "pygments_lexer": "ipython3",
   "version": "3.6.7"
  }
 },
 "nbformat": 4,
 "nbformat_minor": 2
}
