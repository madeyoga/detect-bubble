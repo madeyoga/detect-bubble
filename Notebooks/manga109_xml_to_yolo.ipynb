{
 "cells": [
  {
   "cell_type": "code",
   "execution_count": 1,
   "metadata": {},
   "outputs": [],
   "source": [
    "import os\n",
    "from random import shuffle\n",
    "import numpy as np\n",
    "import pandas as pd\n",
    "import cv2\n",
    "from sklearn.model_selection import train_test_split\n",
    "import matplotlib.pyplot as plt\n",
    "from bs4 import BeautifulSoup\n",
    "from tqdm import tqdm"
   ]
  },
  {
   "cell_type": "code",
   "execution_count": 2,
   "metadata": {},
   "outputs": [],
   "source": [
    "path = 'Dataset\\Manga109'"
   ]
  },
  {
   "cell_type": "code",
   "execution_count": 3,
   "metadata": {},
   "outputs": [],
   "source": [
    "with open('{}\\{}'.format(path, 'books.txt')) as file:\n",
    "    book_list = file.readlines()\n",
    "book_list = [bookname.strip() for bookname in book_list]\n",
    "shuffle(book_list)"
   ]
  },
  {
   "cell_type": "code",
   "execution_count": 4,
   "metadata": {},
   "outputs": [],
   "source": [
    "def convert_coords(w, h, xmin, ymin, xmax, ymax):\n",
    "    xmin, xmax = int(xmin), int(xmax)\n",
    "    ymin, ymax = int(ymin), int(ymax)\n",
    "    \n",
    "    absolute_w = (xmax-xmin)\n",
    "    absolute_h = (ymax-ymin)\n",
    "    xmid = absolute_w/2 + int(xmin)\n",
    "    ymid = absolute_h/2 + int(ymin)\n",
    "    return \"0 {} {} {} {}\".format(xmid/w, ymid/h, absolute_w/w, absolute_h/h)"
   ]
  },
  {
   "cell_type": "code",
   "execution_count": 6,
   "metadata": {},
   "outputs": [
    {
     "name": "stderr",
     "output_type": "stream",
     "text": [
      "100%|████████████████████████████████████████████████████████████████████████████████| 109/109 [00:17<00:00,  6.13it/s]\n"
     ]
    }
   ],
   "source": [
    "# For each book\n",
    "for count, bookname in enumerate(tqdm(book_list)):\n",
    "    # Process annotiation\n",
    "    annotation_path = '{}\\\\annotations\\{}.xml'.format(path, bookname)\n",
    "    with open(annotation_path, encoding='utf8') as a_file:\n",
    "        content = ''.join(a_file.readlines())\n",
    "        \n",
    "    soup = BeautifulSoup(content, 'xml')\n",
    "    \n",
    "    # For each page in book\n",
    "    for page in soup.find_all('page'):\n",
    "        records = []\n",
    "        # Get classes from page\n",
    "        texts = page.findChildren('text')\n",
    "\n",
    "        # Check if class exist in page, if not then, continue to the next page\n",
    "        if not texts:\n",
    "            continue\n",
    "\n",
    "        filepath = '{}\\images\\{}\\{}.jpg'.format(path, bookname, page.get('index').zfill(3))\n",
    "        \n",
    "        width, height = int(page.get('width')), int(page.get('height'))\n",
    "        \n",
    "        for text in texts:\n",
    "            (xmin,ymin,xmax,ymax) = text.get('xmin'), text.get('ymin'), text.get('xmax'), text.get('ymax')\n",
    "            record = convert_coords(width, height, xmin, ymin, xmax, ymax)\n",
    "            records.append(record)\n",
    "        \n",
    "        # Copy filepath\n",
    "        os.system('copy {} yolo_annot\\{}-{}.jpg'.format(filepath, bookname, page.get('index').zfill(3)))\n",
    "        \n",
    "        # Write to yolo annotation file\n",
    "        with open('yolo_annot/{}-{}.txt'.format(bookname, page.get('index').zfill(3)), 'w') as f:\n",
    "            for record in records:\n",
    "                f.write(record + \"\\n\")\n",
    "                \n",
    "        # process 5 pages per book\n",
    "        if int(page.get('index')) >= 5:\n",
    "            break"
   ]
  },
  {
   "cell_type": "code",
   "execution_count": null,
   "metadata": {},
   "outputs": [],
   "source": []
  }
 ],
 "metadata": {
  "kernelspec": {
   "display_name": "Python 3",
   "language": "python",
   "name": "python3"
  },
  "language_info": {
   "codemirror_mode": {
    "name": "ipython",
    "version": 3
   },
   "file_extension": ".py",
   "mimetype": "text/x-python",
   "name": "python",
   "nbconvert_exporter": "python",
   "pygments_lexer": "ipython3",
   "version": "3.8.5"
  }
 },
 "nbformat": 4,
 "nbformat_minor": 4
}
