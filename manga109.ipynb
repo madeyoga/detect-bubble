{
 "cells": [
  {
   "cell_type": "code",
   "execution_count": 1,
   "metadata": {},
   "outputs": [
    {
     "name": "stderr",
     "output_type": "stream",
     "text": [
      "Using TensorFlow backend.\n"
     ]
    }
   ],
   "source": [
    "import os\n",
    "import numpy as np\n",
    "import cv2\n",
    "import matplotlib.pyplot as plt\n",
    "from bs4 import BeautifulSoup\n",
    "import tensorflow as tf\n",
    "from sklearn.model_selection import train_test_split\n",
    "\n",
    "from tqdm import tqdm\n",
    "from keras_tqdm import TQDMNotebookCallback"
   ]
  },
  {
   "cell_type": "markdown",
   "metadata": {},
   "source": [
    "## About this notebook\n",
    "Dataset: [Manga109](http://www.manga109.org/en/)\n",
    "- Process annotation\n",
    "- Preprocess image\n",
    "- Train VGG16 Classifier"
   ]
  },
  {
   "cell_type": "markdown",
   "metadata": {},
   "source": [
    "## Helper Function"
   ]
  },
  {
   "cell_type": "code",
   "execution_count": 2,
   "metadata": {},
   "outputs": [],
   "source": [
    "def get_bounding_rects(elements):\n",
    "    boxes = []\n",
    "    for element in elements:\n",
    "        (xmin,ymin,xmax,ymax) = element.get('xmin'), element.get('ymin'), element.get('xmax'), element.get('ymax')\n",
    "        boxes.append((int(xmin),int(ymin),int(xmax),int(ymax)))\n",
    "    return boxes\n",
    "\n",
    "def visualize_boxes(img, text_boxes=[], body_boxes=[], face_boxes=[], frame_boxes=[]):\n",
    "    # Test Visual\n",
    "    for box in text_boxes:\n",
    "        x1,y1,x2,y2 = box\n",
    "        cv2.rectangle(img, (x1, y1), (x2, y2), (255,0,0), 2)\n",
    "\n",
    "    for box in body_boxes:\n",
    "        x1,y1,x2,y2 = box\n",
    "        cv2.rectangle(img, (x1, y1), (x2, y2), (255,0,0), 2)\n",
    "\n",
    "    for box in face_boxes:\n",
    "        x1,y1,x2,y2 = box\n",
    "        cv2.rectangle(img, (x1, y1), (x2, y2), (255,0,0), 2)\n",
    "\n",
    "    for box in frame_boxes:\n",
    "        x1,y1,x2,y2 = box\n",
    "        cv2.rectangle(img, (x1, y1), (x2, y2), (255,0,0), 2)\n",
    "\n",
    "    plt.imshow(img)\n",
    "    plt.show()\n",
    "    \n",
    "def normalize(img):\n",
    "    return (img.astype(float) - 128) / 128\n",
    "\n",
    "def preprocess(img):\n",
    "    return normalize(cv2.resize(cv2.cvtColor(img, cv2.COLOR_BGR2RGB), (224,224)))\n",
    "\n",
    "def plotgraph(epochs, acc, val_acc, title='Model Accuracy', y_label='Accuracy'):\n",
    "    plt.plot(epochs, acc, 'b')\n",
    "    plt.plot(epochs, val_acc, 'r')\n",
    "    plt.title(title)\n",
    "    plt.ylabel(y_label)\n",
    "    plt.xlabel('Epoch')\n",
    "    plt.legend(['Train', 'Val'], loc='upper left')\n",
    "    plt.show()"
   ]
  },
  {
   "cell_type": "markdown",
   "metadata": {},
   "source": [
    "## Preprocess Data\n",
    "create training dataset\n",
    "- Load book list\n",
    "- Loop through each book\n",
    "- Load annotation\n",
    "- process xml with `BeautifulSoup`\n",
    "- Loop through pages\n",
    "- Get `labels` from element on each page\n",
    "\n",
    "Labels: \n",
    "- text 0\n",
    "- body 1\n",
    "- face 2\n",
    "- frame 3"
   ]
  },
  {
   "cell_type": "code",
   "execution_count": 3,
   "metadata": {},
   "outputs": [],
   "source": [
    "path = 'Dataset/Manga109'\n",
    "\n",
    "with open('{}/{}'.format(path, 'books.txt')) as file:\n",
    "    book_list = file.readlines()\n",
    "book_list = [bookname.strip() for bookname in book_list]"
   ]
  },
  {
   "cell_type": "code",
   "execution_count": 4,
   "metadata": {},
   "outputs": [
    {
     "data": {
      "text/plain": [
       "109"
      ]
     },
     "execution_count": 4,
     "metadata": {},
     "output_type": "execute_result"
    }
   ],
   "source": [
    "len(book_list)"
   ]
  },
  {
   "cell_type": "code",
   "execution_count": 6,
   "metadata": {},
   "outputs": [
    {
     "name": "stderr",
     "output_type": "stream",
     "text": [
      "  9%|███████▍                                                                         | 10/109 [00:05<00:52,  1.88it/s]\n"
     ]
    },
    {
     "data": {
      "text/plain": [
       "(2802, 2802)"
      ]
     },
     "execution_count": 6,
     "metadata": {},
     "output_type": "execute_result"
    }
   ],
   "source": [
    "X = []\n",
    "y = []\n",
    "\n",
    "# For each book\n",
    "for count, bookname in enumerate(tqdm(book_list)):\n",
    "    # Process annotiation\n",
    "    annotation_path = '{}/annotations/{}.xml'.format(path, bookname)\n",
    "    with open(annotation_path, encoding='utf8') as a_file:\n",
    "        content = ''.join(a_file.readlines())\n",
    "        \n",
    "    soup = BeautifulSoup(content, 'xml')\n",
    "    \n",
    "    # For each page in book\n",
    "    for page in soup.find_all('page'):\n",
    "        # Get classes from page\n",
    "        texts = page.findChildren('text')\n",
    "        bodies = page.findChildren('body')\n",
    "        faces = page.findChildren('face')\n",
    "        \n",
    "        # Check if classes exist in page, if not then continue to next page\n",
    "        if not texts and not bodies and not faces:\n",
    "            continue\n",
    "            \n",
    "        # Get bounding boxes for each classes\n",
    "        text_boxes = get_bounding_rects(texts)\n",
    "        body_boxes = get_bounding_rects(bodies)\n",
    "        face_boxes = get_bounding_rects(faces)\n",
    "        \n",
    "        # Load & Process page image.\n",
    "        filename = '{}.jpg'.format(page.get('index').zfill(3))\n",
    "        filepath = '{}/images/{}/{}'.format(path, bookname, filename)\n",
    "        img = cv2.imread(filepath)\n",
    "        \n",
    "        # Crop texts \n",
    "        for box in text_boxes:\n",
    "            x1,y1,x2,y2 = box\n",
    "            cropped_img = img[y1:y2, x1:x2]\n",
    "            X.append(preprocess(cropped_img))\n",
    "            y.append(0)\n",
    "            \n",
    "        # Crop bodies\n",
    "        for box in body_boxes:\n",
    "            x1,y1,x2,y2 = box\n",
    "            cropped_img = img[y1:y2, x1:x2]\n",
    "            X.append(preprocess(cropped_img))\n",
    "            y.append(1)\n",
    "            \n",
    "        # Crop faces\n",
    "        for box in face_boxes:\n",
    "            x1,y1,x2,y2 = box\n",
    "            cropped_img = img[y1:y2, x1:x2]\n",
    "            X.append(preprocess(cropped_img))\n",
    "            y.append(2)\n",
    "\n",
    "        # process 7 pages per book\n",
    "        if int(page.get('index')) >= 7:\n",
    "            break\n",
    "\n",
    "    # process only 10 books\n",
    "    if count >= 10:\n",
    "        break\n",
    "\n",
    "len(X), len(y)"
   ]
  },
  {
   "cell_type": "code",
   "execution_count": 7,
   "metadata": {},
   "outputs": [],
   "source": [
    "X = np.asarray(X)\n",
    "y = np.asarray(y)"
   ]
  },
  {
   "cell_type": "markdown",
   "metadata": {},
   "source": [
    "## Class Distribution"
   ]
  },
  {
   "cell_type": "code",
   "execution_count": 8,
   "metadata": {},
   "outputs": [
    {
     "data": {
      "text/plain": [
       "<BarContainer object of 3 artists>"
      ]
     },
     "execution_count": 8,
     "metadata": {},
     "output_type": "execute_result"
    },
    {
     "data": {
      "image/png": "[encoded data removed]",
      "text/plain": [
       "<Figure size 432x288 with 1 Axes>"
      ]
     },
     "metadata": {
      "needs_background": "light"
     },
     "output_type": "display_data"
    }
   ],
   "source": [
    "unique_val, counts = np.unique(y, return_counts=True)\n",
    "plt.bar(unique_val, counts)"
   ]
  },
  {
   "cell_type": "code",
   "execution_count": 9,
   "metadata": {},
   "outputs": [],
   "source": [
    "y = tf.keras.utils.to_categorical(y)"
   ]
  },
  {
   "cell_type": "code",
   "execution_count": 10,
   "metadata": {},
   "outputs": [
    {
     "data": {
      "text/plain": [
       "((2802, 224, 224, 3), (2802, 3))"
      ]
     },
     "execution_count": 10,
     "metadata": {},
     "output_type": "execute_result"
    }
   ],
   "source": [
    "X.shape, y.shape"
   ]
  },
  {
   "cell_type": "code",
   "execution_count": 11,
   "metadata": {},
   "outputs": [],
   "source": [
    "X_train, X_test, y_train, y_test = train_test_split(X,\n",
    "                                                    y,\n",
    "                                                    test_size=0.22,\n",
    "                                                    random_state=42)"
   ]
  },
  {
   "cell_type": "code",
   "execution_count": 12,
   "metadata": {},
   "outputs": [
    {
     "data": {
      "text/plain": [
       "((2185, 224, 224, 3), (617, 224, 224, 3), (2185, 3), (617, 3))"
      ]
     },
     "execution_count": 12,
     "metadata": {},
     "output_type": "execute_result"
    }
   ],
   "source": [
    "X_train.shape, X_test.shape, y_train.shape, y_test.shape"
   ]
  },
  {
   "cell_type": "markdown",
   "metadata": {},
   "source": [
    "## Train Model"
   ]
  },
  {
   "cell_type": "code",
   "execution_count": 13,
   "metadata": {},
   "outputs": [
    {
     "name": "stdout",
     "output_type": "stream",
     "text": [
      "Model: \"vgg16\"\n",
      "_________________________________________________________________\n",
      "Layer (type)                 Output Shape              Param #   \n",
      "=================================================================\n",
      "input_1 (InputLayer)         [(None, 224, 224, 3)]     0         \n",
      "_________________________________________________________________\n",
      "block1_conv1 (Conv2D)        (None, 224, 224, 64)      1792      \n",
      "_________________________________________________________________\n",
      "block1_conv2 (Conv2D)        (None, 224, 224, 64)      36928     \n",
      "_________________________________________________________________\n",
      "block1_pool (MaxPooling2D)   (None, 112, 112, 64)      0         \n",
      "_________________________________________________________________\n",
      "block2_conv1 (Conv2D)        (None, 112, 112, 128)     73856     \n",
      "_________________________________________________________________\n",
      "block2_conv2 (Conv2D)        (None, 112, 112, 128)     147584    \n",
      "_________________________________________________________________\n",
      "block2_pool (MaxPooling2D)   (None, 56, 56, 128)       0         \n",
      "_________________________________________________________________\n",
      "block3_conv1 (Conv2D)        (None, 56, 56, 256)       295168    \n",
      "_________________________________________________________________\n",
      "block3_conv2 (Conv2D)        (None, 56, 56, 256)       590080    \n",
      "_________________________________________________________________\n",
      "block3_conv3 (Conv2D)        (None, 56, 56, 256)       590080    \n",
      "_________________________________________________________________\n",
      "block3_pool (MaxPooling2D)   (None, 28, 28, 256)       0         \n",
      "_________________________________________________________________\n",
      "block4_conv1 (Conv2D)        (None, 28, 28, 512)       1180160   \n",
      "_________________________________________________________________\n",
      "block4_conv2 (Conv2D)        (None, 28, 28, 512)       2359808   \n",
      "_________________________________________________________________\n",
      "block4_conv3 (Conv2D)        (None, 28, 28, 512)       2359808   \n",
      "_________________________________________________________________\n",
      "block4_pool (MaxPooling2D)   (None, 14, 14, 512)       0         \n",
      "_________________________________________________________________\n",
      "block5_conv1 (Conv2D)        (None, 14, 14, 512)       2359808   \n",
      "_________________________________________________________________\n",
      "block5_conv2 (Conv2D)        (None, 14, 14, 512)       2359808   \n",
      "_________________________________________________________________\n",
      "block5_conv3 (Conv2D)        (None, 14, 14, 512)       2359808   \n",
      "_________________________________________________________________\n",
      "block5_pool (MaxPooling2D)   (None, 7, 7, 512)         0         \n",
      "_________________________________________________________________\n",
      "flatten (Flatten)            (None, 25088)             0         \n",
      "_________________________________________________________________\n",
      "fc1 (Dense)                  (None, 4096)              102764544 \n",
      "_________________________________________________________________\n",
      "fc2 (Dense)                  (None, 4096)              16781312  \n",
      "_________________________________________________________________\n",
      "predictions (Dense)          (None, 3)                 12291     \n",
      "=================================================================\n",
      "Total params: 134,272,835\n",
      "Trainable params: 134,272,835\n",
      "Non-trainable params: 0\n",
      "_________________________________________________________________\n"
     ]
    }
   ],
   "source": [
    "model = tf.keras.applications.VGG16(\n",
    "    include_top=True,\n",
    "    weights=None,\n",
    "    input_tensor=None,\n",
    "    input_shape=X.shape[1:],\n",
    "    pooling=None,\n",
    "    classes=y.shape[1],\n",
    ")\n",
    "model.summary()"
   ]
  },
  {
   "cell_type": "code",
   "execution_count": 14,
   "metadata": {},
   "outputs": [],
   "source": [
    "model.compile(optimizer='sgd',\n",
    "              loss='categorical_crossentropy',\n",
    "              metrics=['accuracy'])"
   ]
  },
  {
   "cell_type": "code",
   "execution_count": 15,
   "metadata": {},
   "outputs": [],
   "source": [
    "checkpoint = tf.keras.callbacks.ModelCheckpoint(filepath='manga109.h5', \n",
    "                                                monitor='val_loss', \n",
    "                                                verbose=1, \n",
    "                                                save_best_only=True, \n",
    "                                                mode='auto')\n",
    "\n",
    "earlystop = tf.keras.callbacks.EarlyStopping(monitor='val_loss', \n",
    "                                             min_delta=0, \n",
    "                                             patience=5, \n",
    "                                             verbose=1, \n",
    "                                             mode='auto',\n",
    "                                             baseline=None, \n",
    "                                             restore_best_weights=False)\n",
    "\n",
    "callbacks = [checkpoint, earlystop, TQDMNotebookCallback()]"
   ]
  },
  {
   "cell_type": "code",
   "execution_count": 16,
   "metadata": {
    "scrolled": true
   },
   "outputs": [
    {
     "name": "stdout",
     "output_type": "stream",
     "text": [
      "Train on 1748 samples, validate on 437 samples\n"
     ]
    },
    {
     "data": {
      "application/vnd.jupyter.widget-view+json": {
       "model_id": "a9538270d8524ac28b35b22ad3a7b422",
       "version_major": 2,
       "version_minor": 0
      },
      "text/plain": [
       "HBox(children=(IntProgress(value=0, description='Training', max=30, style=ProgressStyle(description_width='ini…"
      ]
     },
     "metadata": {},
     "output_type": "display_data"
    },
    {
     "data": {
      "application/vnd.jupyter.widget-view+json": {
       "model_id": "",
       "version_major": 2,
       "version_minor": 0
      },
      "text/plain": [
       "HBox(children=(IntProgress(value=0, description='Epoch 0', max=1748, style=ProgressStyle(description_width='in…"
      ]
     },
     "metadata": {},
     "output_type": "display_data"
    },
    {
     "name": "stdout",
     "output_type": "stream",
     "text": [
      "Epoch 1/30\n",
      "\n",
      "Epoch 00001: val_loss improved from inf to 1.08733, saving model to manga109.h5\n",
      "1748/1748 - 65s - loss: 1.0907 - accuracy: 0.3890 - val_loss: 1.0873 - val_accuracy: 0.3799\n"
     ]
    },
    {
     "data": {
      "application/vnd.jupyter.widget-view+json": {
       "model_id": "",
       "version_major": 2,
       "version_minor": 0
      },
      "text/plain": [
       "HBox(children=(IntProgress(value=0, description='Epoch 1', max=1748, style=ProgressStyle(description_width='in…"
      ]
     },
     "metadata": {},
     "output_type": "display_data"
    },
    {
     "name": "stdout",
     "output_type": "stream",
     "text": [
      "Epoch 2/30\n",
      "\n",
      "Epoch 00002: val_loss improved from 1.08733 to 0.98995, saving model to manga109.h5\n",
      "1748/1748 - 59s - loss: 1.0707 - accuracy: 0.4245 - val_loss: 0.9900 - val_accuracy: 0.5584\n"
     ]
    },
    {
     "data": {
      "application/vnd.jupyter.widget-view+json": {
       "model_id": "",
       "version_major": 2,
       "version_minor": 0
      },
      "text/plain": [
       "HBox(children=(IntProgress(value=0, description='Epoch 2', max=1748, style=ProgressStyle(description_width='in…"
      ]
     },
     "metadata": {},
     "output_type": "display_data"
    },
    {
     "name": "stdout",
     "output_type": "stream",
     "text": [
      "Epoch 3/30\n",
      "\n",
      "Epoch 00003: val_loss improved from 0.98995 to 0.90814, saving model to manga109.h5\n",
      "1748/1748 - 61s - loss: 0.9965 - accuracy: 0.5017 - val_loss: 0.9081 - val_accuracy: 0.5812\n"
     ]
    },
    {
     "data": {
      "application/vnd.jupyter.widget-view+json": {
       "model_id": "",
       "version_major": 2,
       "version_minor": 0
      },
      "text/plain": [
       "HBox(children=(IntProgress(value=0, description='Epoch 3', max=1748, style=ProgressStyle(description_width='in…"
      ]
     },
     "metadata": {},
     "output_type": "display_data"
    },
    {
     "name": "stdout",
     "output_type": "stream",
     "text": [
      "Epoch 4/30\n",
      "\n",
      "Epoch 00004: val_loss improved from 0.90814 to 0.71153, saving model to manga109.h5\n",
      "1748/1748 - 60s - loss: 0.8301 - accuracy: 0.6424 - val_loss: 0.7115 - val_accuracy: 0.6979\n"
     ]
    },
    {
     "data": {
      "application/vnd.jupyter.widget-view+json": {
       "model_id": "",
       "version_major": 2,
       "version_minor": 0
      },
      "text/plain": [
       "HBox(children=(IntProgress(value=0, description='Epoch 4', max=1748, style=ProgressStyle(description_width='in…"
      ]
     },
     "metadata": {},
     "output_type": "display_data"
    },
    {
     "name": "stdout",
     "output_type": "stream",
     "text": [
      "Epoch 5/30\n",
      "\n",
      "Epoch 00005: val_loss improved from 0.71153 to 0.67418, saving model to manga109.h5\n",
      "1748/1748 - 62s - loss: 0.7302 - accuracy: 0.7037 - val_loss: 0.6742 - val_accuracy: 0.7140\n"
     ]
    },
    {
     "data": {
      "application/vnd.jupyter.widget-view+json": {
       "model_id": "",
       "version_major": 2,
       "version_minor": 0
      },
      "text/plain": [
       "HBox(children=(IntProgress(value=0, description='Epoch 5', max=1748, style=ProgressStyle(description_width='in…"
      ]
     },
     "metadata": {},
     "output_type": "display_data"
    },
    {
     "name": "stdout",
     "output_type": "stream",
     "text": [
      "Epoch 6/30\n",
      "\n",
      "Epoch 00006: val_loss improved from 0.67418 to 0.54409, saving model to manga109.h5\n",
      "1748/1748 - 59s - loss: 0.6292 - accuracy: 0.7466 - val_loss: 0.5441 - val_accuracy: 0.7895\n"
     ]
    },
    {
     "data": {
      "application/vnd.jupyter.widget-view+json": {
       "model_id": "",
       "version_major": 2,
       "version_minor": 0
      },
      "text/plain": [
       "HBox(children=(IntProgress(value=0, description='Epoch 6', max=1748, style=ProgressStyle(description_width='in…"
      ]
     },
     "metadata": {},
     "output_type": "display_data"
    },
    {
     "name": "stdout",
     "output_type": "stream",
     "text": [
      "Epoch 7/30\n",
      "\n",
      "Epoch 00007: val_loss improved from 0.54409 to 0.53830, saving model to manga109.h5\n",
      "1748/1748 - 58s - loss: 0.5252 - accuracy: 0.7883 - val_loss: 0.5383 - val_accuracy: 0.7872\n"
     ]
    },
    {
     "data": {
      "application/vnd.jupyter.widget-view+json": {
       "model_id": "",
       "version_major": 2,
       "version_minor": 0
      },
      "text/plain": [
       "HBox(children=(IntProgress(value=0, description='Epoch 7', max=1748, style=ProgressStyle(description_width='in…"
      ]
     },
     "metadata": {},
     "output_type": "display_data"
    },
    {
     "name": "stdout",
     "output_type": "stream",
     "text": [
      "Epoch 8/30\n",
      "\n",
      "Epoch 00008: val_loss did not improve from 0.53830\n",
      "1748/1748 - 55s - loss: 0.4724 - accuracy: 0.8152 - val_loss: 0.6569 - val_accuracy: 0.7712\n"
     ]
    },
    {
     "data": {
      "application/vnd.jupyter.widget-view+json": {
       "model_id": "",
       "version_major": 2,
       "version_minor": 0
      },
      "text/plain": [
       "HBox(children=(IntProgress(value=0, description='Epoch 8', max=1748, style=ProgressStyle(description_width='in…"
      ]
     },
     "metadata": {},
     "output_type": "display_data"
    },
    {
     "name": "stdout",
     "output_type": "stream",
     "text": [
      "Epoch 9/30\n",
      "\n",
      "Epoch 00009: val_loss improved from 0.53830 to 0.42631, saving model to manga109.h5\n",
      "1748/1748 - 63s - loss: 0.3769 - accuracy: 0.8530 - val_loss: 0.4263 - val_accuracy: 0.8467\n"
     ]
    },
    {
     "data": {
      "application/vnd.jupyter.widget-view+json": {
       "model_id": "",
       "version_major": 2,
       "version_minor": 0
      },
      "text/plain": [
       "HBox(children=(IntProgress(value=0, description='Epoch 9', max=1748, style=ProgressStyle(description_width='in…"
      ]
     },
     "metadata": {},
     "output_type": "display_data"
    },
    {
     "name": "stdout",
     "output_type": "stream",
     "text": [
      "Epoch 10/30\n",
      "\n",
      "Epoch 00010: val_loss improved from 0.42631 to 0.39534, saving model to manga109.h5\n",
      "1748/1748 - 59s - loss: 0.3199 - accuracy: 0.8867 - val_loss: 0.3953 - val_accuracy: 0.8535\n"
     ]
    },
    {
     "data": {
      "application/vnd.jupyter.widget-view+json": {
       "model_id": "",
       "version_major": 2,
       "version_minor": 0
      },
      "text/plain": [
       "HBox(children=(IntProgress(value=0, description='Epoch 10', max=1748, style=ProgressStyle(description_width='i…"
      ]
     },
     "metadata": {},
     "output_type": "display_data"
    },
    {
     "name": "stdout",
     "output_type": "stream",
     "text": [
      "Epoch 11/30\n",
      "\n",
      "Epoch 00011: val_loss did not improve from 0.39534\n",
      "1748/1748 - 55s - loss: 0.2779 - accuracy: 0.9010 - val_loss: 0.4356 - val_accuracy: 0.8352\n"
     ]
    },
    {
     "data": {
      "application/vnd.jupyter.widget-view+json": {
       "model_id": "",
       "version_major": 2,
       "version_minor": 0
      },
      "text/plain": [
       "HBox(children=(IntProgress(value=0, description='Epoch 11', max=1748, style=ProgressStyle(description_width='i…"
      ]
     },
     "metadata": {},
     "output_type": "display_data"
    },
    {
     "name": "stdout",
     "output_type": "stream",
     "text": [
      "Epoch 12/30\n",
      "\n",
      "Epoch 00012: val_loss did not improve from 0.39534\n",
      "1748/1748 - 53s - loss: 0.1922 - accuracy: 0.9342 - val_loss: 0.4191 - val_accuracy: 0.8375\n"
     ]
    },
    {
     "data": {
      "application/vnd.jupyter.widget-view+json": {
       "model_id": "",
       "version_major": 2,
       "version_minor": 0
      },
      "text/plain": [
       "HBox(children=(IntProgress(value=0, description='Epoch 12', max=1748, style=ProgressStyle(description_width='i…"
      ]
     },
     "metadata": {},
     "output_type": "display_data"
    },
    {
     "name": "stdout",
     "output_type": "stream",
     "text": [
      "Epoch 13/30\n",
      "\n",
      "Epoch 00013: val_loss did not improve from 0.39534\n",
      "1748/1748 - 53s - loss: 0.1933 - accuracy: 0.9302 - val_loss: 0.4894 - val_accuracy: 0.8330\n"
     ]
    },
    {
     "data": {
      "application/vnd.jupyter.widget-view+json": {
       "model_id": "",
       "version_major": 2,
       "version_minor": 0
      },
      "text/plain": [
       "HBox(children=(IntProgress(value=0, description='Epoch 13', max=1748, style=ProgressStyle(description_width='i…"
      ]
     },
     "metadata": {},
     "output_type": "display_data"
    },
    {
     "name": "stdout",
     "output_type": "stream",
     "text": [
      "Epoch 14/30\n",
      "\n",
      "Epoch 00014: val_loss did not improve from 0.39534\n",
      "1748/1748 - 54s - loss: 0.1529 - accuracy: 0.9462 - val_loss: 0.4038 - val_accuracy: 0.8604\n"
     ]
    },
    {
     "data": {
      "application/vnd.jupyter.widget-view+json": {
       "model_id": "",
       "version_major": 2,
       "version_minor": 0
      },
      "text/plain": [
       "HBox(children=(IntProgress(value=0, description='Epoch 14', max=1748, style=ProgressStyle(description_width='i…"
      ]
     },
     "metadata": {},
     "output_type": "display_data"
    },
    {
     "name": "stdout",
     "output_type": "stream",
     "text": [
      "Epoch 15/30\n",
      "\n",
      "Epoch 00015: val_loss did not improve from 0.39534\n",
      "1748/1748 - 54s - loss: 0.3218 - accuracy: 0.8862 - val_loss: 0.5777 - val_accuracy: 0.8307\n",
      "Epoch 00015: early stopping\n",
      "\n"
     ]
    }
   ],
   "source": [
    "history = model.fit(x=X_train,\n",
    "                    y=y_train,\n",
    "                    batch_size=8,\n",
    "                    epochs=30,\n",
    "                    validation_split=0.2,\n",
    "                    verbose=2,\n",
    "                    callbacks=callbacks)"
   ]
  },
  {
   "cell_type": "code",
   "execution_count": 17,
   "metadata": {},
   "outputs": [
    {
     "data": {
      "text/plain": [
       "(15, 15, 15, 15)"
      ]
     },
     "execution_count": 17,
     "metadata": {},
     "output_type": "execute_result"
    }
   ],
   "source": [
    "loss = history.history['loss']\n",
    "val_loss = history.history['val_loss']\n",
    "acc = history.history['accuracy']\n",
    "val_acc = history.history['val_accuracy']\n",
    "len(loss), len(val_loss), len(acc), len(val_acc)"
   ]
  },
  {
   "cell_type": "code",
   "execution_count": 18,
   "metadata": {},
   "outputs": [
    {
     "data": {
      "image/png": "[encoded data removed]",
      "text/plain": [
       "<Figure size 432x288 with 1 Axes>"
      ]
     },
     "metadata": {
      "needs_background": "light"
     },
     "output_type": "display_data"
    }
   ],
   "source": [
    "plotgraph(range(len(loss)), loss, val_loss, title='Model Loss', y_label='Loss')"
   ]
  },
  {
   "cell_type": "code",
   "execution_count": 19,
   "metadata": {},
   "outputs": [
    {
     "data": {
      "image/png": "[encoded data removed]",
      "text/plain": [
       "<Figure size 432x288 with 1 Axes>"
      ]
     },
     "metadata": {
      "needs_background": "light"
     },
     "output_type": "display_data"
    }
   ],
   "source": [
    "plotgraph(range(len(acc)), acc, val_acc)"
   ]
  }
 ],
 "metadata": {
  "kernelspec": {
   "display_name": "Python 3",
   "language": "python",
   "name": "python3"
  },
  "language_info": {
   "codemirror_mode": {
    "name": "ipython",
    "version": 3
   },
   "file_extension": ".py",
   "mimetype": "text/x-python",
   "name": "python",
   "nbconvert_exporter": "python",
   "pygments_lexer": "ipython3",
   "version": "3.6.7"
  }
 },
 "nbformat": 4,
 "nbformat_minor": 2
}
